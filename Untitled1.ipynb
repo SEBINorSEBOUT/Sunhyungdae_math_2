{
  "nbformat": 4,
  "nbformat_minor": 0,
  "metadata": {
    "colab": {
      "provenance": [],
      "gpuType": "T4",
      "mount_file_id": "1flOJRLB7DN5mz4VeRVUZykZvUUrhoNcn",
      "authorship_tag": "ABX9TyMAIXiwDJDdbHyubBgIAgWn",
      "include_colab_link": true
    },
    "kernelspec": {
      "name": "python3",
      "display_name": "Python 3"
    },
    "language_info": {
      "name": "python"
    },
    "accelerator": "GPU"
  },
  "cells": [
    {
      "cell_type": "markdown",
      "metadata": {
        "id": "view-in-github",
        "colab_type": "text"
      },
      "source": [
        "<a href=\"https://colab.research.google.com/github/SEBINorSEBOUT/Sunhyungdae_math_2/blob/main/Untitled1.ipynb\" target=\"_parent\"><img src=\"https://colab.research.google.com/assets/colab-badge.svg\" alt=\"Open In Colab\"/></a>"
      ]
    },
    {
      "cell_type": "code",
      "source": [
        "from google.colab import drive\n",
        "drive.mount('/content/drive')"
      ],
      "metadata": {
        "id": "9wTF4WpFS3vq"
      },
      "execution_count": null,
      "outputs": []
    },
    {
      "cell_type": "code",
      "execution_count": null,
      "metadata": {
        "id": "HpMignyOR0nL"
      },
      "outputs": [],
      "source": [
        "print(\"Hello, world\")"
      ]
    },
    {
      "cell_type": "code",
      "source": [
        "#integer\n",
        "x=3\n",
        "print(\"정수: %01d, %02d, %03d, %04d, %05d\" % (x,x,x,x,x))"
      ],
      "metadata": {
        "id": "Gegkklf5UBde"
      },
      "execution_count": null,
      "outputs": []
    },
    {
      "cell_type": "code",
      "source": [
        "#float\n",
        "x=256.123\n",
        "print(\"실수: %.0f, %.1f, %.2f\" % (x,x,x))"
      ],
      "metadata": {
        "id": "LXyjK8jEUDKz"
      },
      "execution_count": null,
      "outputs": []
    },
    {
      "cell_type": "code",
      "source": [
        "#string\n",
        "x = \"Hello, world\"\n",
        "print(\"문자열: [%s]\" % (x))"
      ],
      "metadata": {
        "id": "yxf705EDUD4h"
      },
      "execution_count": null,
      "outputs": []
    },
    {
      "cell_type": "code",
      "source": [
        "contents = [\"Regerssion\", \"Classification\", \"SYM\", \"Clustering\", \"Dimension reduction\", \"NN\", \"CNN\", \"AE\", \"GGAN\", \"RNN\"]\n",
        "for con in contents:\n",
        "  if con in [\"Regerssion\", \"Classification\", \"SYM\", \"Clustering\", \"Dimension reduction\"]:\n",
        "    print(\"%s 은(는) 기계학습 내용입니다.\" % con)\n",
        "  elif con in [\"CNN\"]:\n",
        "    print(\"%s (은)는 convolutinoal neural network 입니다.\" % con)\n",
        "  else :\n",
        "    print(\"%s 은(는) 심층학습 내용입니다.\" %con)"
      ],
      "metadata": {
        "colab": {
          "base_uri": "https://localhost:8080/"
        },
        "id": "yOUq6ybfX_2i",
        "outputId": "7c7d80bb-75d0-4456-8150-47fee1fc7274"
      },
      "execution_count": 4,
      "outputs": [
        {
          "output_type": "stream",
          "name": "stdout",
          "text": [
            "Regerssion 은(는) 기계학습 내용입니다.\n",
            "Classification 은(는) 기계학습 내용입니다.\n",
            "SYM 은(는) 기계학습 내용입니다.\n",
            "Clustering 은(는) 기계학습 내용입니다.\n",
            "Dimension reduction 은(는) 기계학습 내용입니다.\n",
            "NN 은(는) 심층학습 내용입니다.\n",
            "CNN (은)는 convolutinoal neural network 입니다.\n",
            "AE 은(는) 심층학습 내용입니다.\n",
            "GGAN 은(는) 심층학습 내용입니다.\n",
            "RNN 은(는) 심층학습 내용입니다.\n"
          ]
        }
      ]
    },
    {
      "cell_type": "code",
      "source": [
        "for (i, con) in enumerate(contents):\n",
        "  print(\"[%d/%d]: %s\" % (i, len(contents), con))"
      ],
      "metadata": {
        "id": "QtYJ3iUTbBjQ"
      },
      "execution_count": null,
      "outputs": []
    }
  ]
}